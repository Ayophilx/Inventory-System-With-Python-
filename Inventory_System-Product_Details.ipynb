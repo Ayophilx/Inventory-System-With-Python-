{
 "cells": [
  {
   "cell_type": "code",
   "execution_count": 52,
   "id": "61399d7c",
   "metadata": {},
   "outputs": [
    {
     "name": "stdout",
     "output_type": "stream",
     "text": [
      "Enter Product Id : 1004\n",
      "Enter Product Name : semolina\n",
      "Enter Product Amount : 1000\n",
      "Enter Product Quantity : 10\n",
      "Inventory Updated!\n"
     ]
    }
   ],
   "source": [
    "# Creating a JSON File that will contain details of the products availaible\n",
    "class inventory_product:\n",
    "    # This function collect inputs from the user\n",
    "    def __init__(self):\n",
    "        # Taking user input to register product details\n",
    "        self.productID       = input(\"Enter Product Id : \")\n",
    "        self.productName     = input(\"Enter Product Name : \")\n",
    "        self.productAmount   = str(input(\"Enter Product Amount : \"))\n",
    "        self.productQuantity = str(input(\"Enter Product Quantity : \"))\n",
    "    \n",
    "    def product_update(self):\n",
    "        \n",
    "        Id,name,amount,qty   =self.productID,self.productName,self.productAmount,self.productQuantity\n",
    "        \n",
    "        # create a dictionary of the products from user inputs\n",
    "        prd_dict={Id:{\"Name\":name,\"Amount\":amount,\"Quantity\":qty}}\n",
    "        \n",
    "        import json\n",
    "        \n",
    "        try:\n",
    "            # if directory exist, this code updates it with data of new products\n",
    "            with open(r\"productDetails.json\", \"r+\") as fd:\n",
    "                content_dict    = json.loads(fd.read())\n",
    "                content_dict.update(prd_dict)\n",
    "            \n",
    "            with open(r'productDetails.json',\"w\") as fd:\n",
    "                json.dump(content_dict,fd)\n",
    "                \n",
    "        except:\n",
    "            # if directory does not exist, a new directory is created to store the product information\n",
    "            open(r\"productDetails.json\", \"w\")\n",
    "            with open(r'productDetails.json',\"r+\") as fd:\n",
    "                json.dump(prd_dict,fd)\n",
    "                \n",
    "        else:\n",
    "            print(\"Inventory Updated!\")\n",
    "            \n",
    "            \n",
    "        \n",
    "        \n",
    "    \n",
    "product=inventory_product().product_update()"
   ]
  },
  {
   "cell_type": "code",
   "execution_count": 63,
   "id": "afce45b6",
   "metadata": {},
   "outputs": [
    {
     "name": "stdout",
     "output_type": "stream",
     "text": [
      "               Name Amount Quantity\n",
      "1001         5 star     10      100\n",
      "1002          candy      2      200\n",
      "1003  cream cracker      8       50\n",
      "1004       semolina   1000       10\n"
     ]
    },
    {
     "data": {
      "text/plain": [
       "Name        5 star\n",
       "Amount          10\n",
       "Quantity       100\n",
       "Name: 1001, dtype: object"
      ]
     },
     "execution_count": 63,
     "metadata": {},
     "output_type": "execute_result"
    }
   ],
   "source": [
    "# Extra; to view the inventory as a data frame\n",
    "\n",
    "import json\n",
    "with open(r\"productDetails.json\",\"r+\") as fd:\n",
    "    content = json.loads(fd.read())\n",
    "\n",
    "import pandas as pd\n",
    "\n",
    "data = pd.DataFrame(content).transpose()\n",
    "data\n",
    "print(data)\n",
    "data.loc[\"1001\"]\n"
   ]
  }
 ],
 "metadata": {
  "kernelspec": {
   "display_name": "Python 3",
   "language": "python",
   "name": "python3"
  },
  "language_info": {
   "codemirror_mode": {
    "name": "ipython",
    "version": 3
   },
   "file_extension": ".py",
   "mimetype": "text/x-python",
   "name": "python",
   "nbconvert_exporter": "python",
   "pygments_lexer": "ipython3",
   "version": "3.8.8"
  }
 },
 "nbformat": 4,
 "nbformat_minor": 5
}
